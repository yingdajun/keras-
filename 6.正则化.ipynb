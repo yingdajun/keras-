{
 "cells": [
  {
   "cell_type": "markdown",
   "metadata": {},
   "source": [
    "# 也是防止过拟合"
   ]
  },
  {
   "cell_type": "code",
   "execution_count": 2,
   "metadata": {
    "collapsed": true
   },
   "outputs": [],
   "source": [
    "# 两种方法\n",
    "import keras\n",
    "import numpy as np\n",
    "import matplotlib.pyplot as plt\n",
    "\n",
    "from keras.utils import np_utils\n",
    "\n",
    "from keras.datasets import mnist\n",
    "# Sequential按顺序构成的模型\n",
    "from keras.models import Sequential\n",
    "# Dense全连接层,DropOut隐藏层操作吧\n",
    "from keras.layers import Dense,Activation,Dropout\n",
    "# 优化器\n",
    "from keras.optimizers import SGD\n",
    "\n",
    "from keras.regularizers import l2"
   ]
  },
  {
   "cell_type": "code",
   "execution_count": null,
   "metadata": {},
   "outputs": [
    {
     "name": "stdout",
     "output_type": "stream",
     "text": [
      "xtrain (60000, 28, 28)\n",
      "ytrain (60000,)\n",
      "xtrain (60000, 784)\n",
      "xtest (10000, 784)\n",
      "Epoch 1/10\n",
      "31424/60000 [==============>...............] - ETA: 1:49 - loss: 24.7934 - accuracy: 0.7038"
     ]
    }
   ],
   "source": [
    "\n",
    "# 载入数据\n",
    "(x_train,y_train),(x_test,y_test)=mnist.load_data()\n",
    "\n",
    "print('xtrain',x_train.shape)\n",
    "print('ytrain',y_train.shape)\n",
    "\n",
    "# -1是自动转换，255.0是为了归一化\n",
    "x_train=x_train.reshape(x_train.shape[0],-1)/255.0\n",
    "x_test=x_test.reshape(x_test.shape[0],-1)/255.0\n",
    "\n",
    "print('xtrain',x_train.shape)\n",
    "print('xtest',x_test.shape)\n",
    "\n",
    "# 转化成one-hot格式\n",
    "y_train=np_utils.to_categorical(y_train,num_classes=10)\n",
    "y_test=np_utils.to_categorical(y_test,num_classes=10)\n",
    "\n",
    "# 创建模型,输入784个神经元，输出10个神经元\n",
    "model=Sequential(\n",
    "[Dense(units=2000,input_dim=784,bias_initializer='one',activation='tanh',kernel_regularizer=l2(0.003)),\n",
    " Dense(units=2000,bias_initializer='one',activation='tanh'),\n",
    " Dense(units=10,bias_initializer='one',activation='softmax')\n",
    "]\n",
    "\n",
    ")\n",
    "\n",
    "\n",
    "# 分类模型使用交叉熵速度比较快\n",
    "sgd=SGD(lr=0.3)\n",
    "model.compile(optimizer=sgd,loss='categorical_crossentropy',metrics=['accuracy'])\n",
    "\n",
    "# 训练\n",
    "# batch_size=32一次训练32章，epochs 训练10轮，把所有的图片都训练一次\n",
    "model.fit(x_train,y_train,batch_size=32,epochs=10)\n",
    "#评估模型\n",
    "loss,accuray=model.evaluate(x_test,y_test)\n",
    "\n",
    "print('\\test loss',loss)\n",
    "print('test accuray',accuray)\n",
    "\n",
    "loss,accuray=model.evaluate(x_train,y_train)\n",
    "\n",
    "print('\\train loss',loss)\n",
    "print('train accuray',accuray)\n",
    "\n"
   ]
  },
  {
   "cell_type": "code",
   "execution_count": null,
   "metadata": {
    "collapsed": true
   },
   "outputs": [],
   "source": []
  }
 ],
 "metadata": {
  "kernelspec": {
   "display_name": "Python 3",
   "language": "python",
   "name": "python3"
  },
  "language_info": {
   "codemirror_mode": {
    "name": "ipython",
    "version": 3
   },
   "file_extension": ".py",
   "mimetype": "text/x-python",
   "name": "python",
   "nbconvert_exporter": "python",
   "pygments_lexer": "ipython3",
   "version": "3.6.2"
  }
 },
 "nbformat": 4,
 "nbformat_minor": 2
}
