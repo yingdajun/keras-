{
 "cells": [
  {
   "cell_type": "code",
   "execution_count": 1,
   "metadata": {
    "collapsed": true
   },
   "outputs": [],
   "source": [
    "# 两种方法\n",
    "import keras\n",
    "import numpy as np\n",
    "import matplotlib.pyplot as plt\n",
    "\n",
    "from keras.utils import np_utils\n",
    "\n",
    "from keras.datasets import mnist\n",
    "# Sequential按顺序构成的模型\n",
    "from keras.models import Sequential\n",
    "# Dense全连接层\n",
    "from keras.layers import Dense,Activation\n",
    "# 优化器\n",
    "from keras.optimizers import SGD,Adam\n"
   ]
  },
  {
   "cell_type": "code",
   "execution_count": 3,
   "metadata": {},
   "outputs": [
    {
     "name": "stdout",
     "output_type": "stream",
     "text": [
      "xtrain (60000, 28, 28)\n",
      "ytrain (60000,)\n",
      "xtrain (60000, 784)\n",
      "xtest (10000, 784)\n",
      "Epoch 1/10\n",
      "60000/60000 [==============================] - 5s 88us/step - loss: 0.4754 - accuracy: 0.8760\n",
      "Epoch 2/10\n",
      "60000/60000 [==============================] - 6s 101us/step - loss: 0.3037 - accuracy: 0.9158\n",
      "Epoch 3/10\n",
      "60000/60000 [==============================] - 6s 104us/step - loss: 0.2839 - accuracy: 0.9209\n",
      "Epoch 4/10\n",
      "60000/60000 [==============================] - 6s 106us/step - loss: 0.2729 - accuracy: 0.9242\n",
      "Epoch 5/10\n",
      "60000/60000 [==============================] - 6s 105us/step - loss: 0.2667 - accuracy: 0.9262\n",
      "Epoch 6/10\n",
      "60000/60000 [==============================] - 6s 108us/step - loss: 0.2616 - accuracy: 0.9271\n",
      "Epoch 7/10\n",
      "60000/60000 [==============================] - 7s 115us/step - loss: 0.2585 - accuracy: 0.9283\n",
      "Epoch 8/10\n",
      "60000/60000 [==============================] - 4s 68us/step - loss: 0.2554 - accuracy: 0.9295\n",
      "Epoch 9/10\n",
      "60000/60000 [==============================] - 6s 105us/step - loss: 0.2527 - accuracy: 0.9300\n",
      "Epoch 10/10\n",
      "60000/60000 [==============================] - 6s 94us/step - loss: 0.2513 - accuracy: 0.9298\n",
      "10000/10000 [==============================] - 0s 34us/step\n",
      "\test loss 0.26464260318279265\n",
      "accuray 0.9280999898910522\n"
     ]
    }
   ],
   "source": [
    "\n",
    "# 载入数据\n",
    "(x_train,y_train),(x_test,y_test)=mnist.load_data()\n",
    "\n",
    "print('xtrain',x_train.shape)\n",
    "print('ytrain',y_train.shape)\n",
    "\n",
    "# -1是自动转换，255.0是为了归一化\n",
    "x_train=x_train.reshape(x_train.shape[0],-1)/255.0\n",
    "x_test=x_test.reshape(x_test.shape[0],-1)/255.0\n",
    "\n",
    "print('xtrain',x_train.shape)\n",
    "print('xtest',x_test.shape)\n",
    "\n",
    "# 转化成one-hot格式\n",
    "y_train=np_utils.to_categorical(y_train,num_classes=10)\n",
    "y_test=np_utils.to_categorical(y_test,num_classes=10)\n",
    "\n",
    "# 创建模型,输入784个神经元，输出10个神经元\n",
    "model=Sequential(\n",
    "[Dense(units=10,input_dim=784,bias_initializer='one',activation='softmax')]\n",
    ")\n",
    "\n",
    "\n",
    "# 分类模型使用交叉熵速度比较快\n",
    "# sgd=SGD(lr=0.3)\n",
    "adam=Adam(lr=0.001)\n",
    "model.compile(optimizer=adam,loss='categorical_crossentropy',metrics=['accuracy'])\n",
    "\n",
    "# 训练\n",
    "# batch_size=32一次训练32章，epochs 训练10轮，把所有的图片都训练一次\n",
    "model.fit(x_train,y_train,batch_size=32,epochs=10)\n",
    "#评估模型\n",
    "loss,accuray=model.evaluate(x_test,y_test)\n",
    "\n",
    "print('\\test loss',loss)\n",
    "print('accuray',accuray)\n",
    "\n",
    "\n"
   ]
  },
  {
   "cell_type": "code",
   "execution_count": null,
   "metadata": {
    "collapsed": true
   },
   "outputs": [],
   "source": []
  }
 ],
 "metadata": {
  "kernelspec": {
   "display_name": "Python 3",
   "language": "python",
   "name": "python3"
  },
  "language_info": {
   "codemirror_mode": {
    "name": "ipython",
    "version": 3
   },
   "file_extension": ".py",
   "mimetype": "text/x-python",
   "name": "python",
   "nbconvert_exporter": "python",
   "pygments_lexer": "ipython3",
   "version": "3.6.2"
  }
 },
 "nbformat": 4,
 "nbformat_minor": 2
}
