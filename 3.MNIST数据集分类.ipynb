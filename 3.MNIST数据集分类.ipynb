{
 "cells": [
  {
   "cell_type": "code",
   "execution_count": 3,
   "metadata": {},
   "outputs": [],
   "source": [
    "# 两种方法\n",
    "import keras\n",
    "import numpy as np\n",
    "import matplotlib.pyplot as plt\n",
    "\n",
    "from keras.utils import np_utils\n",
    "\n",
    "from keras.datasets import mnist\n",
    "# Sequential按顺序构成的模型\n",
    "from keras.models import Sequential\n",
    "# Dense全连接层\n",
    "from keras.layers import Dense,Activation\n",
    "# 优化器\n",
    "from keras.optimizers import SGD"
   ]
  },
  {
   "cell_type": "code",
   "execution_count": 4,
   "metadata": {
    "collapsed": true
   },
   "outputs": [],
   "source": [
    "# 载入数据\n",
    "(x_train,y_train),(x_test,y_test)=mnist.load_data()"
   ]
  },
  {
   "cell_type": "code",
   "execution_count": 5,
   "metadata": {},
   "outputs": [
    {
     "name": "stdout",
     "output_type": "stream",
     "text": [
      "xtrain (60000, 28, 28)\n",
      "ytrain (60000,)\n"
     ]
    }
   ],
   "source": [
    "print('xtrain',x_train.shape)\n",
    "print('ytrain',y_train.shape)"
   ]
  },
  {
   "cell_type": "code",
   "execution_count": 6,
   "metadata": {
    "collapsed": true
   },
   "outputs": [],
   "source": [
    "# (60000, 28, 28)->(60000, 784)转化形式"
   ]
  },
  {
   "cell_type": "code",
   "execution_count": 7,
   "metadata": {},
   "outputs": [
    {
     "name": "stdout",
     "output_type": "stream",
     "text": [
      "xtrain (60000, 784)\n",
      "ytrain (60000,)\n"
     ]
    }
   ],
   "source": [
    "# -1是自动转换，255.0是为了归一化\n",
    "x_train=x_train.reshape(x_train.shape[0],-1)/255.0\n",
    "x_test=x_test.reshape(x_test.shape[0],-1)/255.0\n"
   ]
  },
  {
   "cell_type": "code",
   "execution_count": 8,
   "metadata": {},
   "outputs": [
    {
     "name": "stdout",
     "output_type": "stream",
     "text": [
      "xtrain (60000, 784)\n",
      "xtest (10000, 784)\n"
     ]
    }
   ],
   "source": [
    "print('xtrain',x_train.shape)\n",
    "print('xtest',x_test.shape)"
   ]
  },
  {
   "cell_type": "code",
   "execution_count": 9,
   "metadata": {
    "collapsed": true
   },
   "outputs": [],
   "source": [
    "# 转化成one-hot格式\n",
    "y_train=np_utils.to_categorical(y_train,num_classes=10)\n",
    "y_test=np_utils.to_categorical(y_test,num_classes=10)"
   ]
  },
  {
   "cell_type": "code",
   "execution_count": 10,
   "metadata": {
    "collapsed": true
   },
   "outputs": [],
   "source": [
    "# 创建模型,输入784个神经元，输出10个神经元\n",
    "model=Sequential(\n",
    "[Dense(units=10,input_dim=784,bias_initializer='one',activation='softmax')]\n",
    ")\n"
   ]
  },
  {
   "cell_type": "code",
   "execution_count": 11,
   "metadata": {
    "collapsed": true
   },
   "outputs": [],
   "source": [
    "sgd=SGD(lr=0.3)\n",
    "model.compile(optimizer=sgd,loss='mse',metrics=['accuracy'])"
   ]
  },
  {
   "cell_type": "code",
   "execution_count": 12,
   "metadata": {},
   "outputs": [
    {
     "name": "stdout",
     "output_type": "stream",
     "text": [
      "Epoch 1/10\n",
      "60000/60000 [==============================] - 3s 54us/step - loss: 0.0323 - accuracy: 0.8093\n",
      "Epoch 2/10\n",
      "60000/60000 [==============================] - 3s 53us/step - loss: 0.0184 - accuracy: 0.8903\n",
      "Epoch 3/10\n",
      "60000/60000 [==============================] - 3s 49us/step - loss: 0.0163 - accuracy: 0.9003\n",
      "Epoch 4/10\n",
      "60000/60000 [==============================] - 3s 52us/step - loss: 0.0153 - accuracy: 0.9056\n",
      "Epoch 5/10\n",
      "60000/60000 [==============================] - 3s 49us/step - loss: 0.0146 - accuracy: 0.9090\n",
      "Epoch 6/10\n",
      "60000/60000 [==============================] - 4s 65us/step - loss: 0.0141 - accuracy: 0.9118\n",
      "Epoch 7/10\n",
      "60000/60000 [==============================] - 5s 87us/step - loss: 0.0137 - accuracy: 0.9138\n",
      "Epoch 8/10\n",
      "60000/60000 [==============================] - 4s 69us/step - loss: 0.0135 - accuracy: 0.9151\n",
      "Epoch 9/10\n",
      "60000/60000 [==============================] - 3s 56us/step - loss: 0.0132 - accuracy: 0.9169\n",
      "Epoch 10/10\n",
      "60000/60000 [==============================] - 3s 56us/step - loss: 0.0130 - accuracy: 0.9178\n",
      "10000/10000 [==============================] - 0s 32us/step\n",
      "\test loss 0.01246597451986745\n",
      "accuray 0.9199000000953674\n"
     ]
    }
   ],
   "source": [
    "# 训练\n",
    "# batch_size=32一次训练32章，epochs 训练10轮，把所有的图片都训练一次\n",
    "model.fit(x_train,y_train,batch_size=32,epochs=10)\n",
    "#评估模型\n",
    "loss,accuray=model.evaluate(x_test,y_test)\n",
    "\n",
    "print('\\test loss',loss)\n",
    "print('accuray',accuray)"
   ]
  },
  {
   "cell_type": "code",
   "execution_count": null,
   "metadata": {
    "collapsed": true
   },
   "outputs": [],
   "source": []
  }
 ],
 "metadata": {
  "kernelspec": {
   "display_name": "Python 3",
   "language": "python",
   "name": "python3"
  },
  "language_info": {
   "codemirror_mode": {
    "name": "ipython",
    "version": 3
   },
   "file_extension": ".py",
   "mimetype": "text/x-python",
   "name": "python",
   "nbconvert_exporter": "python",
   "pygments_lexer": "ipython3",
   "version": "3.6.2"
  }
 },
 "nbformat": 4,
 "nbformat_minor": 2
}
